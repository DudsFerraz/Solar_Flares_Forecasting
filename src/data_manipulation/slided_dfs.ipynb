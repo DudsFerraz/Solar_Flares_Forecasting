{
 "cells": [
  {
   "metadata": {},
   "cell_type": "markdown",
   "source": "## Setup",
   "id": "e2b1b26e79e7f7f8"
  },
  {
   "metadata": {},
   "cell_type": "code",
   "source": [
    "import pandas as pd\n",
    "import os\n",
    "from dotenv import load_dotenv\n",
    "from src import util"
   ],
   "id": "initial_id",
   "outputs": [],
   "execution_count": null
  },
  {
   "metadata": {},
   "cell_type": "code",
   "source": [
    "load_dotenv()\n",
    "\n",
    "events_csv_path = os.getenv(\"EVENTS_CSV_PATH\")\n",
    "xrays_csv_path = os.getenv(\"XRAY_V2_CSV_PATH\")\n",
    "\n",
    "data_begin_year = 1983\n",
    "data_end_year = 2025\n",
    "data_year_range = range(data_begin_year, data_end_year + 1)\n",
    "\n",
    "events_begin_year = 1996\n",
    "events_end_year = 2024\n",
    "events_year_range = range(events_begin_year, events_end_year + 1)"
   ],
   "id": "1a09e0447b6c7bbc",
   "outputs": [],
   "execution_count": null
  },
  {
   "metadata": {},
   "cell_type": "markdown",
   "source": "## Reading CSVs",
   "id": "faea9689f3f25dac"
  },
  {
   "metadata": {},
   "cell_type": "code",
   "source": [
    "data = {\n",
    "    'events': {\n",
    "        'all': {},\n",
    "        'DSD': {}\n",
    "    },\n",
    "    'xrays': {}\n",
    "}"
   ],
   "id": "867a7ffb0de1a48f",
   "outputs": [],
   "execution_count": null
  },
  {
   "metadata": {},
   "cell_type": "code",
   "source": [
    "missing_files = []\n",
    "for y in range(1983, 1995+1):\n",
    "    f = missing_files.append(os.path.join(events_csv_path, os.path.join(str(y), f\"{y}_events.csv\")))\n",
    "    missing_files.append(os.path.join(events_csv_path, os.path.join(str(y), f\"{y}_DSD.csv\")))"
   ],
   "id": "a5e9a0f3f86cacb9",
   "outputs": [],
   "execution_count": null
  },
  {
   "metadata": {},
   "cell_type": "code",
   "source": [
    "missing_events_dsd = [\n",
    "    os.path.join(events_csv_path, str(y), f\"{y}_{file_type}.csv\")\n",
    "    for y in range(1983, 1995+1)\n",
    "    for file_type in ('events', 'DSD')\n",
    "]\n",
    "missing_files = set(missing_events_dsd)\n",
    "\n",
    "for y in data_year_range:\n",
    "    events_year_dir = os.path.join(events_csv_path, str(y))\n",
    "    xrays_year_dir = os.path.join(xrays_csv_path, str(y))\n",
    "\n",
    "    try:\n",
    "        data['events']['all'][y] = pd.read_csv(os.path.join(events_year_dir, f\"{y}_events.csv\"),\n",
    "                                               parse_dates=['date','begin','max','end'],\n",
    "                                               ).rename(columns={'date':'ds'})\n",
    "    except FileNotFoundError as e:\n",
    "        data['events']['all'][y] = pd.DataFrame()\n",
    "        if e.filename not in missing_files: print(e)\n",
    "\n",
    "    try:\n",
    "        data['events']['DSD'][y] = pd.read_csv(os.path.join(events_year_dir, f\"{y}_DSD.csv\"),\n",
    "                                               parse_dates=['ds'],\n",
    "                                               index_col='ds')\n",
    "    except FileNotFoundError as e:\n",
    "        data['events']['DSD'][y] = pd.DataFrame()\n",
    "        if e.filename not in missing_files: print(e)\n",
    "\n",
    "    try:\n",
    "        data['xrays'][y] = pd.read_csv(os.path.join(xrays_year_dir, f\"{y}_xrays.csv\"),\n",
    "                                       parse_dates=['ds'],\n",
    "                                       index_col='ds')\n",
    "        data['xrays'][y] = data['xrays'][y].asfreq('1min')\n",
    "\n",
    "    except FileNotFoundError as e:\n",
    "        data[y]['xrays'] = pd.DataFrame()\n",
    "        if e.filename not in missing_files: print(e)"
   ],
   "id": "cd57b8df80ec5723",
   "outputs": [],
   "execution_count": null
  },
  {
   "metadata": {},
   "cell_type": "markdown",
   "source": "## Preparing Data",
   "id": "57c3dee813fd6d08"
  },
  {
   "metadata": {},
   "cell_type": "markdown",
   "source": "### Categorizing Different Events Types",
   "id": "4bb691434f07b5a7"
  },
  {
   "metadata": {},
   "cell_type": "code",
   "source": [
    "event_types = (\"BSL\", \"DSF\", \"EPL\", \"FIL\", \"FLA\", \"FOR\", \"GLE\", \"LPS\", \"PCA\", \"RBR\", \"RNS\", \"RSP\", \"XRA\")\n",
    "\n",
    "for t in event_types:\n",
    "    data['events'][t] = {}\n",
    "    for y in data_year_range:\n",
    "        df_all = data['events']['all'][y]\n",
    "        try:\n",
    "            mask = df_all['type'] == t\n",
    "            data['events'][t][y] = df_all[mask].reset_index(drop=False)\n",
    "            data['events'][t][y] = data['events'][t][y].rename(columns={'index': 'original_index'})\n",
    "        except KeyError as e:\n",
    "            data['events'][t][y] = pd.DataFrame()"
   ],
   "id": "e372b8ccb730f92",
   "outputs": [],
   "execution_count": null
  },
  {
   "metadata": {},
   "cell_type": "code",
   "source": [
    "xra_events = {'all': pd.DataFrame()}\n",
    "\n",
    "for y in events_year_range:\n",
    "    df = data['events']['XRA'][y]\n",
    "\n",
    "    df[['class_expanded', 'peak_flux']] = df['particulars'].str.split(expand=True)\n",
    "    df['peak_flux'] = pd.to_numeric(df['peak_flux'])\n",
    "    df['class'] = df['class_expanded'].str[0]\n",
    "    df = df.drop(columns=['particulars'])\n",
    "\n",
    "    df['class_numeric'] = df['class'].apply(lambda c: util.flare_class_map.get(c, 0))\n",
    "\n",
    "    df = df[['ds', 'type', 'class_numeric' ,'class', 'class_expanded', 'peak_flux', 'begin', 'max', 'end', 'q']]\n",
    "\n",
    "    df = df.dropna(subset=['begin'])\n",
    "\n",
    "    xra_events[y] = df\n",
    "    xra_events['all'] = pd.concat([xra_events['all'], df])"
   ],
   "id": "2f2deb6b95d0dc99",
   "outputs": [],
   "execution_count": null
  },
  {
   "metadata": {},
   "cell_type": "markdown",
   "source": "### DFs To Slide",
   "id": "7e772e5badaa51dc"
  },
  {
   "metadata": {},
   "cell_type": "code",
   "source": [
    "def get_cols(year: int) -> list[str]:\n",
    "    return ['xs','xl'] if year < 2020 else ['xrsa_flux','xrsb_flux']"
   ],
   "id": "c1ea76a6cc1ec299",
   "outputs": [],
   "execution_count": null
  },
  {
   "metadata": {},
   "cell_type": "code",
   "source": [
    "xrays_to_slide = pd.DataFrame()\n",
    "xra_events_to_slide = pd.DataFrame()\n",
    "for y in events_year_range:\n",
    "    cols = get_cols(y)\n",
    "    df_xrays = data['xrays'][y][[c for c in cols]]\n",
    "    if cols != ['xs', 'xl']:\n",
    "        df_xrays = df_xrays.rename(columns=dict(zip(cols, ['xs', 'xl'])))\n",
    "\n",
    "    xrays_to_slide = pd.concat([xrays_to_slide, df_xrays])\n",
    "\n",
    "\n",
    "    df_events = xra_events[y][['class_numeric', 'begin']]\n",
    "\n",
    "    xra_events_to_slide = pd.concat([xra_events_to_slide, df_events])"
   ],
   "id": "be26a5bd045564de",
   "outputs": [],
   "execution_count": null
  },
  {
   "metadata": {},
   "cell_type": "markdown",
   "source": "## Showing DFs",
   "id": "b69299e4651ba26f"
  },
  {
   "metadata": {},
   "cell_type": "code",
   "source": "data['xrays'][2020]",
   "id": "247bc022854c0dee",
   "outputs": [],
   "execution_count": null
  },
  {
   "metadata": {},
   "cell_type": "code",
   "source": "xrays_to_slide",
   "id": "d1d4f25b04a334d5",
   "outputs": [],
   "execution_count": null
  },
  {
   "metadata": {},
   "cell_type": "code",
   "source": "xra_events[2020]",
   "id": "495109d575809dbc",
   "outputs": [],
   "execution_count": null
  },
  {
   "metadata": {},
   "cell_type": "code",
   "source": "xra_events_to_slide",
   "id": "56f691dce049a2cf",
   "outputs": [],
   "execution_count": null
  },
  {
   "metadata": {},
   "cell_type": "markdown",
   "source": "## Slided DataFrames",
   "id": "275bfb0c1a0aeeea"
  },
  {
   "metadata": {},
   "cell_type": "code",
   "source": [
    "metrics_windows = ['1h', '6h', '12h', '24h', '7D', '14D', '30D']\n",
    "deriv_windows = ['5min', '15min', '30min', '1h', '3h', '6h']\n",
    "\n",
    "df_features = pd.DataFrame(index=xrays_to_slide.index)\n",
    "cols = ['xs', 'xl']"
   ],
   "id": "9adfc92afbbe6829",
   "outputs": [],
   "execution_count": null
  },
  {
   "metadata": {},
   "cell_type": "code",
   "source": [
    "for col in cols:\n",
    "    for w in metrics_windows:\n",
    "        rolling_window = xrays_to_slide[col].rolling(window=w)\n",
    "        df_features[f'{col}_mean_{w}'] = rolling_window.mean()\n",
    "        df_features[f'{col}_std_{w}'] = rolling_window.std()\n",
    "        df_features[f'{col}_max_{w}'] = rolling_window.max()\n",
    "\n",
    "    col_diff = xrays_to_slide[col].diff()\n",
    "    for w in deriv_windows:\n",
    "        df_features[f'{col}_deriv_{w}'] = col_diff.rolling(w).mean()"
   ],
   "id": "ebb577b853d5909f",
   "outputs": [],
   "execution_count": null
  },
  {
   "metadata": {},
   "cell_type": "code",
   "source": [
    "target_events = xra_events_to_slide.set_index('begin')[['class_numeric']]\n",
    "target_events = target_events.groupby(level=0).max().reindex(xrays_to_slide.index).fillna(0)\n",
    "\n",
    "reversed_targets = target_events['class_numeric'].iloc[::-1]\n",
    "future_max_reversed = reversed_targets.rolling(window='24h', min_periods=1).max()\n",
    "future_max = future_max_reversed.iloc[::-1]\n",
    "\n",
    "df_target = pd.DataFrame(index=xrays_to_slide.index)\n",
    "df_target['target_class_in_24h'] = future_max.shift(-1, freq='1min').fillna(0)\n",
    "\n",
    "df_target['target_class_label'] = df_target['target_class_in_24h'].apply(lambda x: util.reverse_flare_class_map.get(x, 'No Flare'))"
   ],
   "id": "c60b434624b2700e",
   "outputs": [],
   "execution_count": null
  },
  {
   "metadata": {},
   "cell_type": "code",
   "source": [
    "# O resampling deve ser realizado na hora do uso\n",
    "df_slided = pd.concat([df_features, df_target], axis=1).dropna()"
   ],
   "id": "a62f9ca10e920780",
   "outputs": [],
   "execution_count": null
  },
  {
   "metadata": {},
   "cell_type": "code",
   "source": "df_slided",
   "id": "c8eb58608c1956b6",
   "outputs": [],
   "execution_count": null
  },
  {
   "metadata": {},
   "cell_type": "markdown",
   "source": "## Exporting CSVs",
   "id": "97ad7d76b6c8f446"
  },
  {
   "metadata": {},
   "cell_type": "code",
   "source": [
    "slided_dfs_path = os.getenv(\"SLIDED_DFS_CSV_PATH\")\n",
    "\n",
    "df_slided.to_csv(os.path.join(slided_dfs_path, f\"data_slided_V2\"))\n",
    "df_slided.to_parquet(os.path.join(slided_dfs_path, \"data_slided_V2.parquet\"))"
   ],
   "id": "3cb0454f73565d83",
   "outputs": [],
   "execution_count": null
  }
 ],
 "metadata": {
  "kernelspec": {
   "display_name": "Python 3",
   "language": "python",
   "name": "python3"
  },
  "language_info": {
   "codemirror_mode": {
    "name": "ipython",
    "version": 2
   },
   "file_extension": ".py",
   "mimetype": "text/x-python",
   "name": "python",
   "nbconvert_exporter": "python",
   "pygments_lexer": "ipython2",
   "version": "2.7.6"
  }
 },
 "nbformat": 4,
 "nbformat_minor": 5
}
