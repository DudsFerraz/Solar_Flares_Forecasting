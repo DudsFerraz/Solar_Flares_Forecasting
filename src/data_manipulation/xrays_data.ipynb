{
 "cells": [
  {
   "metadata": {},
   "cell_type": "markdown",
   "source": "## Setup",
   "id": "9bf2f42b94fed5ee"
  },
  {
   "cell_type": "code",
   "id": "initial_id",
   "metadata": {
    "collapsed": true
   },
   "source": [
    "import os\n",
    "from dotenv import load_dotenv\n",
    "import numpy as np\n",
    "import pandas as pd\n",
    "import re\n",
    "from src import util\n",
    "import xarray as xr"
   ],
   "outputs": [],
   "execution_count": null
  },
  {
   "metadata": {},
   "cell_type": "code",
   "source": [
    "load_dotenv()\n",
    "raw_data_path = os.getenv('XRAY_V2_RAW_PATH')\n",
    "csv_data_path = os.getenv('XRAY_V2_CSV_PATH')\n",
    "\n",
    "data = {}\n",
    "months = [\"jan\",\"feb\",\"mar\",\"apr\",\"may\",\"jun\",\"jul\",\"aug\",\"sep\",\"oct\",\"nov\",\"dec\"]"
   ],
   "id": "530c1f3286f2e948",
   "outputs": [],
   "execution_count": null
  },
  {
   "metadata": {},
   "cell_type": "markdown",
   "source": "## Read files",
   "id": "e735e51e0a2c6cff"
  },
  {
   "metadata": {},
   "cell_type": "code",
   "source": [
    "def find_data_row(file_path) -> int|None :\n",
    "    with open(file_path, 'r', errors='ignore') as f:\n",
    "        for i, line in enumerate(f):\n",
    "            if line.strip() == 'data:':\n",
    "                return i + 1\n",
    "\n",
    "    return None"
   ],
   "id": "32833a3f882b6ea1",
   "outputs": [],
   "execution_count": null
  },
  {
   "metadata": {},
   "cell_type": "code",
   "source": [
    "csv_raw_range = range(1983, 2019+1)\n",
    "\n",
    "for y in csv_raw_range:\n",
    "    data[y] = {}\n",
    "    year_dir = os.path.join(raw_data_path, f\"{y}\")\n",
    "\n",
    "    if not os.path.isdir(year_dir):\n",
    "        print(f\"ERRO: Diretório não encontrado, pulando ano {y}\")\n",
    "        continue\n",
    "\n",
    "    files_in_dir = os.listdir(year_dir)\n",
    "    for m in range(1, 13):\n",
    "        m_str = f\"{m:02d}\"\n",
    "\n",
    "        if y <= 1985:\n",
    "            pattern_str = f\"^g\\\\d+_xrs_1m_3s_{y}{m_str}01_{y}{m_str}\\\\d{{2}}\\\\.csv$\"\n",
    "            pattern = re.compile(pattern_str)\n",
    "        else:\n",
    "            pattern_str = f\"^g\\\\d+_xrs_1m_{y}{m_str}01_{y}{m_str}\\\\d{{2}}\\\\.csv$\"\n",
    "            pattern = re.compile(pattern_str)\n",
    "\n",
    "        found_file_name = None\n",
    "        for file_name in files_in_dir:\n",
    "            if pattern.match(file_name):\n",
    "                found_file_name = file_name\n",
    "                break\n",
    "\n",
    "        if found_file_name is None:\n",
    "            print(f\"ERRO: Arquivo não encontrado, pulando mes {m} de {y}\")\n",
    "            continue\n",
    "\n",
    "        full_path = os.path.join(year_dir, found_file_name)\n",
    "        data_row = find_data_row(full_path)\n",
    "        if data_row is None:\n",
    "            print(f\"ERRO: Marcador 'data:' não encontrado em {full_path}. Pulando arquivo.\")\n",
    "            continue\n",
    "\n",
    "        df = pd.read_csv(full_path, skiprows=data_row, index_col=\"time_tag\")\n",
    "\n",
    "        data[y][months[m-1]] = df\n",
    "        print(f\"{months[m-1]} de {y} registrado!\")"
   ],
   "id": "40e6cba678528e89",
   "outputs": [],
   "execution_count": null
  },
  {
   "metadata": {},
   "cell_type": "markdown",
   "source": "## Prepare DataFrames",
   "id": "29006bbf6417a8c1"
  },
  {
   "metadata": {},
   "cell_type": "code",
   "source": [
    "for y in data.keys():\n",
    "    df_whole_year = pd.DataFrame()\n",
    "    for m in data[y]:\n",
    "        df = data[y][m]\n",
    "        df.index = pd.to_datetime(df.index)\n",
    "        df.index.name = \"ds\"\n",
    "        df = df.asfreq(\"min\")\n",
    "\n",
    "        if y > 2009:\n",
    "            df = df.drop(columns=[\"A_QUAL_FLAG\",\"A_NUM_PTS\",\"B_QUAL_FLAG\",\"B_NUM_PTS\"])\n",
    "            df = df.rename(columns={\"A_AVG\":\"xs\", \"B_AVG\":\"xl\"})\n",
    "\n",
    "        df[\"xs\"] = df[\"xs\"].astype(float)\n",
    "        df[\"xl\"] = df[\"xl\"].astype(float)\n",
    "\n",
    "        data[y][m] = df\n",
    "        print(f\"{m} de {y} prepared!\")\n",
    "\n",
    "        df_m = df\n",
    "        df_whole_year = pd.concat([df_whole_year, df_m])\n",
    "\n",
    "    data[y][\"whole_year\"] = df_whole_year\n",
    "    print(f\"{y} prepared!\")"
   ],
   "id": "efa74260c6bb2df8",
   "outputs": [],
   "execution_count": null
  },
  {
   "metadata": {},
   "cell_type": "markdown",
   "source": "## Handling Missing Values",
   "id": "3743c55d0fc7486f"
  },
  {
   "metadata": {},
   "cell_type": "code",
   "source": [
    "missing_values = [0,-99999,99999]\n",
    "\n",
    "for y in data.keys():\n",
    "    df = data[y][\"whole_year\"]\n",
    "\n",
    "    df[['xs','xl']] = df[['xs','xl']].replace(missing_values, np.nan)\n",
    "    missing_xs_count = df['xs'].isna().sum()\n",
    "    missing_xl_count = df['xl'].isna().sum()\n",
    "\n",
    "    rows_count = len(df)\n",
    "    print(f\"{y} Missing Values --> XS:{round((missing_xs_count/rows_count)*100,2)}% | XL:{round((missing_xl_count/rows_count)*100,2)}%\")"
   ],
   "id": "5a8c16bb543a5fb8",
   "outputs": [],
   "execution_count": null
  },
  {
   "metadata": {},
   "cell_type": "markdown",
   "source": "## Exporting CSVs",
   "id": "ec64b7905ada391e"
  },
  {
   "metadata": {},
   "cell_type": "code",
   "source": "util.create_dirs(csv_data_path, csv_raw_range)",
   "id": "e7ee2f468da127ae",
   "outputs": [],
   "execution_count": null
  },
  {
   "metadata": {},
   "cell_type": "code",
   "source": [
    "for y in csv_raw_range:\n",
    "    df = data[y][\"whole_year\"]\n",
    "\n",
    "    year_dir = os.path.join(csv_data_path, str(y))\n",
    "    df.to_csv(os.path.join(year_dir,f\"{y}_xrays.csv\"))"
   ],
   "id": "9eddfaa58e391555",
   "outputs": [],
   "execution_count": null
  },
  {
   "metadata": {},
   "cell_type": "markdown",
   "source": "## NetCDF Files",
   "id": "820cdc12993cce22"
  },
  {
   "metadata": {},
   "cell_type": "code",
   "source": [
    "current_y = 2020\n",
    "df_days_list = []\n",
    "for date in pd.date_range(start='2020-01-01', end=\"2025-09-21\"):\n",
    "    if date <= pd.Timestamp('2022-09-01'):\n",
    "        satellite = \"g17\"\n",
    "    else:\n",
    "        satellite = \"g18\"\n",
    "    y = date.year\n",
    "    m = f\"{date.month:02d}\"\n",
    "    d = f\"{date.day:02d}\"\n",
    "\n",
    "    year_dir = os.path.join(raw_data_path, str(y))\n",
    "    file_name = f\"sci_xrsf-l2-avg1m_{satellite}_d{y}{m}{d}_v2-2-0.nc\"\n",
    "    full_path = os.path.join(year_dir, file_name)\n",
    "\n",
    "    if y != current_y:\n",
    "        data[current_y] = {}\n",
    "        data[current_y][\"whole_year\"] = pd.concat(df_days_list)\n",
    "\n",
    "        df_days_list = []\n",
    "        current_y = y\n",
    "\n",
    "    try:\n",
    "        xr_obj = xr.open_dataset(full_path)\n",
    "        df = xr_obj[['time','xrsa_flux','xrsb_flux']].to_dataframe()\n",
    "\n",
    "        df = df.rename(columns={'time':'ds'}).set_index('ds')\n",
    "        df = df.drop(columns=['Unnamed: 0'])\n",
    "\n",
    "        print(f\"SUCCES READING {y}-{m}-{d}\")\n",
    "        if not df.empty:\n",
    "            df_days_list.append(df)\n",
    "    except FileNotFoundError as e:\n",
    "        print(f\"AVISO: Arquivo não encontrado, pulando: {full_path}\")\n",
    "\n",
    "print(df_days_list)\n",
    "if df_days_list:\n",
    "    data[current_y] = {}\n",
    "    data[current_y][\"whole_year\"] = pd.concat(df_days_list)"
   ],
   "id": "70e05adf5c79230d",
   "outputs": [],
   "execution_count": null
  },
  {
   "metadata": {},
   "cell_type": "markdown",
   "source": "### Exporting CSVs",
   "id": "a62815c2f8f7e8fc"
  },
  {
   "metadata": {},
   "cell_type": "code",
   "source": [
    "nc_range = range(2020, 2025+1)\n",
    "util.create_dirs(csv_data_path, nc_range)"
   ],
   "id": "ca1bda4ae9ce21ad",
   "outputs": [],
   "execution_count": null
  },
  {
   "metadata": {},
   "cell_type": "code",
   "source": [
    "for y in nc_range:\n",
    "    df = data[y][\"whole_year\"]\n",
    "\n",
    "    year_dir = os.path.join(csv_data_path,str(y))\n",
    "    df.to_csv(os.path.join(year_dir,f\"{y}_xrays.csv\"))"
   ],
   "id": "d517dd9feecf3146",
   "outputs": [],
   "execution_count": null
  }
 ],
 "metadata": {
  "kernelspec": {
   "display_name": "Python 3",
   "language": "python",
   "name": "python3"
  },
  "language_info": {
   "codemirror_mode": {
    "name": "ipython",
    "version": 2
   },
   "file_extension": ".py",
   "mimetype": "text/x-python",
   "name": "python",
   "nbconvert_exporter": "python",
   "pygments_lexer": "ipython2",
   "version": "2.7.6"
  }
 },
 "nbformat": 4,
 "nbformat_minor": 5
}
